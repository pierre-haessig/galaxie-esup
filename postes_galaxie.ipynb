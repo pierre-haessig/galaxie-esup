{
 "metadata": {
  "name": ""
 },
 "nbformat": 3,
 "nbformat_minor": 0,
 "worksheets": [
  {
   "cells": [
    {
     "cell_type": "heading",
     "level": 1,
     "metadata": {},
     "source": [
      "Postes GALAXIE"
     ]
    },
    {
     "cell_type": "markdown",
     "metadata": {},
     "source": [
      "Analyse automatique des tableaux de postes d'enseignants chercheurs sur GALAXIE\n",
      "\n",
      "Pierre H. \u2014 18 f\u00e9vrier 2014"
     ]
    },
    {
     "cell_type": "code",
     "collapsed": false,
     "input": [
      "import pandas\n",
      "import urllib\n",
      "from bs4 import BeautifulSoup\n",
      "from IPython.display import HTML, display_html"
     ],
     "language": "python",
     "metadata": {},
     "outputs": [],
     "prompt_number": 36
    },
    {
     "cell_type": "markdown",
     "metadata": {},
     "source": [
      "**Postes publi\u00e9s dans GALAXIE** (cf. [page source](https://www.galaxie.enseignementsup-recherche.gouv.fr/ensup/cand_postes_GALAXIE.htm))\n",
      "\n",
      "Extrait de *\"Postes d'enseignants-chercheurs\"* :\n",
      "\n",
      "* Liste des postes d'enseignants-chercheurs **publi\u00e9s et ouverts** \u00e0 la candidature : https://www.galaxie.enseignementsup-recherche.gouv.fr/ensup/ListesPostesPublies/Emplois_publies_TrieParCorps.html\n",
      "* Liste des postes d'enseignants-chercheurs dont la **publication prochaine** est annonc\u00e9e : https://www.galaxie.enseignementsup-recherche.gouv.fr/ensup/ListesPostesPublies/Emplois_prepublies_TrieParCorps.html\n",
      "* Liste de **tous** les postes d'enseignants-chercheurs : https://www.galaxie.enseignementsup-recherche.gouv.fr/ensup/ListesPostesPublies/ListePostePubliesAnnuelle.xls (nota : le fichier \"xls\" est en fait un html !)"
     ]
    },
    {
     "cell_type": "heading",
     "level": 2,
     "metadata": {},
     "source": [
      "M\u00e9thode de lecture HTML directe"
     ]
    },
    {
     "cell_type": "markdown",
     "metadata": {},
     "source": [
      "`pandas.read_html` \u2192 cass\u00e9 :-("
     ]
    },
    {
     "cell_type": "code",
     "collapsed": false,
     "input": [
      "url = 'https://www.galaxie.enseignementsup-recherche.gouv.fr/ensup/ListesPostesPublies/Emplois_publies_TrieParCorps.html'\n",
      "\n",
      "d = pandas.read_html(url, attrs={'class': 'tab'})"
     ],
     "language": "python",
     "metadata": {},
     "outputs": [
      {
       "ename": "AssertionError",
       "evalue": "No tables found",
       "output_type": "pyerr",
       "traceback": [
        "\u001b[1;31m---------------------------------------------------------------------------\u001b[0m\n\u001b[1;31mAssertionError\u001b[0m                            Traceback (most recent call last)",
        "\u001b[1;32m<ipython-input-15-28ddd0dc9952>\u001b[0m in \u001b[0;36m<module>\u001b[1;34m()\u001b[0m\n\u001b[0;32m      1\u001b[0m \u001b[0murl\u001b[0m \u001b[1;33m=\u001b[0m \u001b[1;34m'https://www.galaxie.enseignementsup-recherche.gouv.fr/ensup/ListesPostesPublies/Emplois_publies_TrieParCorps.html'\u001b[0m\u001b[1;33m\u001b[0m\u001b[0m\n\u001b[0;32m      2\u001b[0m \u001b[1;33m\u001b[0m\u001b[0m\n\u001b[1;32m----> 3\u001b[1;33m \u001b[0md\u001b[0m \u001b[1;33m=\u001b[0m \u001b[0mpandas\u001b[0m\u001b[1;33m.\u001b[0m\u001b[0mread_html\u001b[0m\u001b[1;33m(\u001b[0m\u001b[0murl\u001b[0m\u001b[1;33m,\u001b[0m \u001b[0mattrs\u001b[0m\u001b[1;33m=\u001b[0m\u001b[1;33m{\u001b[0m\u001b[1;34m'class'\u001b[0m\u001b[1;33m:\u001b[0m \u001b[1;34m'tab'\u001b[0m\u001b[1;33m}\u001b[0m\u001b[1;33m)\u001b[0m\u001b[1;33m\u001b[0m\u001b[0m\n\u001b[0m",
        "\u001b[1;32m/home/pierre/anaconda/lib/python2.7/site-packages/pandas/io/html.pyc\u001b[0m in \u001b[0;36mread_html\u001b[1;34m(io, match, flavor, header, index_col, skiprows, infer_types, attrs)\u001b[0m\n\u001b[0;32m    904\u001b[0m                              'data (you passed a negative value)')\n\u001b[0;32m    905\u001b[0m     return _parse(flavor, io, match, header, index_col, skiprows, infer_types,\n\u001b[1;32m--> 906\u001b[1;33m                   attrs)\n\u001b[0m",
        "\u001b[1;32m/home/pierre/anaconda/lib/python2.7/site-packages/pandas/io/html.pyc\u001b[0m in \u001b[0;36m_parse\u001b[1;34m(flavor, io, match, header, index_col, skiprows, infer_types, attrs)\u001b[0m\n\u001b[0;32m    773\u001b[0m             \u001b[1;32mbreak\u001b[0m\u001b[1;33m\u001b[0m\u001b[0m\n\u001b[0;32m    774\u001b[0m     \u001b[1;32melse\u001b[0m\u001b[1;33m:\u001b[0m\u001b[1;33m\u001b[0m\u001b[0m\n\u001b[1;32m--> 775\u001b[1;33m         \u001b[1;32mraise\u001b[0m \u001b[0mretained\u001b[0m\u001b[1;33m\u001b[0m\u001b[0m\n\u001b[0m\u001b[0;32m    776\u001b[0m \u001b[1;33m\u001b[0m\u001b[0m\n\u001b[0;32m    777\u001b[0m     return [_data_to_frame(table, header, index_col, infer_types, skiprows)\n",
        "\u001b[1;31mAssertionError\u001b[0m: No tables found"
       ]
      }
     ],
     "prompt_number": 15
    },
    {
     "cell_type": "heading",
     "level": 2,
     "metadata": {},
     "source": [
      "M\u00e9thode de parsing HTML semi-manuelle : BeautifulSoup"
     ]
    },
    {
     "cell_type": "markdown",
     "metadata": {},
     "source": [
      "Lecture du fichier (et correction de malformation du html)"
     ]
    },
    {
     "cell_type": "code",
     "collapsed": false,
     "input": [
      "f = urllib.urlopen(url)\n",
      "\n",
      "def fix_th(f):\n",
      "    for line in f:\n",
      "        if '<th' in line:\n",
      "            line = line.replace('</td>', '</th>')\n",
      "        yield line\n",
      "\n",
      "s = ''.join(fix_th(f))\n",
      "f.close()\n",
      "\n",
      "#print(s[:2000])\n",
      "len(s)"
     ],
     "language": "python",
     "metadata": {},
     "outputs": [
      {
       "metadata": {},
       "output_type": "pyout",
       "prompt_number": 179,
       "text": [
        "316424"
       ]
      }
     ],
     "prompt_number": 179
    },
    {
     "cell_type": "markdown",
     "metadata": {},
     "source": [
      "Parsing du HTML : attention au [choix du parser](http://www.crummy.com/software/BeautifulSoup/bs4/doc/#installing-a-parser) !\n",
      "\n",
      "* 'html.parser' : OK (apr\u00e8s avoir corrig\u00e9 les \"td\" en \"th\")\n",
      "* 'lxml' : pas bon, il *manque des lignes* !\n",
      "* 'html5lib' : pas bon, on ne trouve pas de tableau !\n"
     ]
    },
    {
     "cell_type": "code",
     "collapsed": false,
     "input": [
      "soup = BeautifulSoup(s, 'html.parser')\n",
      "print(soup.title.text)"
     ],
     "language": "python",
     "metadata": {},
     "outputs": [
      {
       "output_type": "stream",
       "stream": "stdout",
       "text": [
        "Liste des postes d'enseignant-chercheur publi\u00e9s et ouverts \u00e0 la candidature \u00e0 la date du 18/02/2014\n",
        "tri par Corps / Section / Etablissement\n",
        "\n"
       ]
      }
     ],
     "prompt_number": 182
    },
    {
     "cell_type": "code",
     "collapsed": false,
     "input": [
      "tabs = soup.find_all('table')\n",
      "# Les 2 tableaux imbriqu\u00e9s :\n",
      "(len(tabs[0].find_all('tr', recursive=False)), \n",
      " len(tabs[1].find_all('tr', recursive=False)) )"
     ],
     "language": "python",
     "metadata": {},
     "outputs": [
      {
       "metadata": {},
       "output_type": "pyout",
       "prompt_number": 183,
       "text": [
        "(6, 345)"
       ]
      }
     ],
     "prompt_number": 183
    },
    {
     "cell_type": "code",
     "collapsed": false,
     "input": [
      "# Extraction des lignes :\n",
      "rows = tabs[1].find_all('tr', recursive=False)\n",
      "tr_head = rows[0]\n",
      "rows = rows[1:]\n",
      "\n",
      "# Affichage 1\u00e8re et derni\u00e8re ligne du tableau\n",
      "HTML('<table>{}{}</table>'.format(tr_head, ''.join(str(r) for r in rows[0:1]+rows[-1:])))"
     ],
     "language": "python",
     "metadata": {},
     "outputs": [
      {
       "html": [
        "<table><tr>\n",
        "<th width=\"6%\"><b>UAI</b></th>\n",
        "<th width=\"12%\"><b>Etablissement</b></th>\n",
        "<th width=\"6%\"><b>R\u00e9f\u00e9rence GALAXIE</b></th>\n",
        "<th width=\"6%\"><b>N\u00b0 dans le SI local</b></th>\n",
        "<th width=\"5%\"><b>Article</b></th>\n",
        "<th width=\"4%\"><b>Corps</b></th>\n",
        "<th width=\"5%\"><b>Chaire</b></th>\n",
        "<th width=\"4%\"><b>Section</b></th>\n",
        "<th width=\"4%\"><b>Section2</b></th>\n",
        "<th width=\"4%\"><b>Section3</b></th>\n",
        "<th width=\"7%\"><b>Date de prise de fonction</b></th>\n",
        "<th width=\"7%\"><b>Date ouverture cand</b></th>\n",
        "<th width=\"7%\"><b>Date cl\u00f4ture cand</b></th>\n",
        "<th width=\"11%\"><b>Profil</b></th>\n",
        "<th width=\"6%\"><b>Localisation</b></th>\n",
        "<th width=\"6%\"><b>Etat de vacance</b></th>\n",
        "</tr><tr>\n",
        "<td width=\"6%\">0350936C</td>\n",
        "<td width=\"12%\">UNIVERSITE RENNES 1</td>\n",
        "<td width=\"6%\"><a href=\"https://www.galaxie.enseignementsup-recherche.gouv.fr/ensup/ListesPostesPublies/ANTEE/2014_1/0350936C/FOPC_0350936C_4205.pdf\">4205</a> * </td>\n",
        "<td width=\"6%\">1238</td>\n",
        "<td width=\"5%\">26-I-1</td>\n",
        "<td width=\"4%\">MCF</td>\n",
        "<td width=\"5%\">Non</td>\n",
        "<td width=\"4%\">1</td>\n",
        "<td width=\"4%\"></td>\n",
        "<td width=\"4%\"></td>\n",
        "<td width=\"7%\">01/09/2014</td>\n",
        "<td width=\"7%\">27/02/2014</td>\n",
        "<td width=\"7%\">01/04/2014</td>\n",
        "<td width=\"11%\">Droit social</td>\n",
        "<td width=\"6%\">Rennes</td>\n",
        "<td width=\"6%\"></td>\n",
        "</tr><tr>\n",
        "<td width=\"6%\">0911101C</td>\n",
        "<td width=\"12%\">UNIVERSITE PARIS 11</td>\n",
        "<td width=\"6%\"><a href=\"https://www.galaxie.enseignementsup-recherche.gouv.fr/ensup/ListesPostesPublies/ANTEE/2014_1/0911101C/FOPC_0911101C_4231.pdf\">4231</a> * </td>\n",
        "<td width=\"6%\"></td>\n",
        "<td width=\"5%\">46-3</td>\n",
        "<td width=\"4%\">PR</td>\n",
        "<td width=\"5%\">Non</td>\n",
        "<td width=\"4%\">85</td>\n",
        "<td width=\"4%\"></td>\n",
        "<td width=\"4%\"></td>\n",
        "<td width=\"7%\">01/09/2014</td>\n",
        "<td width=\"7%\">27/02/2014</td>\n",
        "<td width=\"7%\">01/04/2014</td>\n",
        "<td width=\"11%\">Pharmacotechnie et Biopharmacie appliqu\u00e9es aux voies locales</td>\n",
        "<td width=\"6%\">CHATENAY-MALABRY</td>\n",
        "<td width=\"6%\"></td>\n",
        "</tr></table>"
       ],
       "metadata": {},
       "output_type": "pyout",
       "prompt_number": 184,
       "text": [
        "<IPython.core.display.HTML at 0xbe36190>"
       ]
      }
     ],
     "prompt_number": 184
    },
    {
     "cell_type": "code",
     "collapsed": false,
     "input": [
      "head = [th.b.text for th in tr_head.find_all('th')]\n",
      "print('nombre de colonnes : {}'.format(len(head)))\n",
      "head"
     ],
     "language": "python",
     "metadata": {},
     "outputs": [
      {
       "output_type": "stream",
       "stream": "stdout",
       "text": [
        "nombre de colonnes : 16\n"
       ]
      },
      {
       "metadata": {},
       "output_type": "pyout",
       "prompt_number": 148,
       "text": [
        "[u'UAI',\n",
        " u'Etablissement',\n",
        " u'R\\xe9f\\xe9rence GALAXIE',\n",
        " u'N\\xb0 dans le SI local',\n",
        " u'Article',\n",
        " u'Corps',\n",
        " u'Chaire',\n",
        " u'Section',\n",
        " u'Section2',\n",
        " u'Section3',\n",
        " u'Date de prise de fonction',\n",
        " u'Date ouverture cand',\n",
        " u'Date cl\\xf4ture cand',\n",
        " u'Profil',\n",
        " u'Localisation',\n",
        " u'Etat de vacance']"
       ]
      }
     ],
     "prompt_number": 148
    },
    {
     "cell_type": "code",
     "collapsed": false,
     "input": [
      "# V\u00e9rification des lignes:\n",
      "i = 0\n",
      "for tr in rows:\n",
      "    cols = tr.find_all('td')\n",
      "    i+= 1\n",
      "    assert len(cols) == 16\n",
      "i"
     ],
     "language": "python",
     "metadata": {},
     "outputs": [
      {
       "metadata": {},
       "output_type": "pyout",
       "prompt_number": 185,
       "text": [
        "344"
       ]
      }
     ],
     "prompt_number": 185
    },
    {
     "cell_type": "markdown",
     "metadata": {},
     "source": [
      "Flitrage des lignes : s\u00e9lection de la section 63"
     ]
    },
    {
     "cell_type": "code",
     "collapsed": false,
     "input": [
      "head[7:10]"
     ],
     "language": "python",
     "metadata": {},
     "outputs": [
      {
       "metadata": {},
       "output_type": "pyout",
       "prompt_number": 157,
       "text": [
        "[u'Section', u'Section2', u'Section3']"
       ]
      }
     ],
     "prompt_number": 157
    },
    {
     "cell_type": "code",
     "collapsed": false,
     "input": [
      "def section_filter(rows, section):\n",
      "    for tr in rows:\n",
      "        cols = tr.find_all('td')\n",
      "        row_sections = [td.text for td in cols[7:10]]\n",
      "        row_sections = [int(n) for n in row_sections if n != '']\n",
      "        if section in row_sections:\n",
      "            yield tr\n",
      "\n",
      "selected_rows = list(section_filter(rows, 63))\n",
      "            \n",
      "HTML('<table>{}{}</table>'.format(tr_head, ''.join(str(r) for r in selected_rows)))"
     ],
     "language": "python",
     "metadata": {},
     "outputs": [
      {
       "html": [
        "<table><tr>\n",
        "<th width=\"6%\"><b>UAI</b></th>\n",
        "<th width=\"12%\"><b>Etablissement</b></th>\n",
        "<th width=\"6%\"><b>R\u00e9f\u00e9rence GALAXIE</b></th>\n",
        "<th width=\"6%\"><b>N\u00b0 dans le SI local</b></th>\n",
        "<th width=\"5%\"><b>Article</b></th>\n",
        "<th width=\"4%\"><b>Corps</b></th>\n",
        "<th width=\"5%\"><b>Chaire</b></th>\n",
        "<th width=\"4%\"><b>Section</b></th>\n",
        "<th width=\"4%\"><b>Section2</b></th>\n",
        "<th width=\"4%\"><b>Section3</b></th>\n",
        "<th width=\"7%\"><b>Date de prise de fonction</b></th>\n",
        "<th width=\"7%\"><b>Date ouverture cand</b></th>\n",
        "<th width=\"7%\"><b>Date cl\u00f4ture cand</b></th>\n",
        "<th width=\"11%\"><b>Profil</b></th>\n",
        "<th width=\"6%\"><b>Localisation</b></th>\n",
        "<th width=\"6%\"><b>Etat de vacance</b></th>\n",
        "</tr><tr>\n",
        "<td width=\"6%\">0221809X</td>\n",
        "<td width=\"12%\">UNIV. RENNES 1 (ENSSAT LANNION)</td>\n",
        "<td width=\"6%\"><a href=\"https://www.galaxie.enseignementsup-recherche.gouv.fr/ensup/ListesPostesPublies/ANTEE/2014_1/0221809X/FOPC_0221809X_4251.pdf\">4251</a> * </td>\n",
        "<td width=\"6%\"></td>\n",
        "<td width=\"5%\">26-I-1</td>\n",
        "<td width=\"4%\">MCF</td>\n",
        "<td width=\"5%\">Non</td>\n",
        "<td width=\"4%\">30</td>\n",
        "<td width=\"4%\">63</td>\n",
        "<td width=\"4%\"></td>\n",
        "<td width=\"7%\">01/09/2014</td>\n",
        "<td width=\"7%\">27/02/2014</td>\n",
        "<td width=\"7%\">01/04/2014</td>\n",
        "<td width=\"11%\">Enseignement \u00e0 l\u00bfEnssat (composants semi-conducteurs, opto\u00e9lectronique, photonique, TP) Recherche ds UMR Foton-\u00e9quipe syst\u00e8mes photoniques (carac., bruit, dyn. non-lin\u00e9aire, mod\u00e9lisation)</td>\n",
        "<td width=\"6%\">LANNION</td>\n",
        "<td width=\"6%\"></td>\n",
        "</tr><tr>\n",
        "<td width=\"6%\">0911101C</td>\n",
        "<td width=\"12%\">UNIVERSITE PARIS 11</td>\n",
        "<td width=\"6%\"><a href=\"https://www.galaxie.enseignementsup-recherche.gouv.fr/ensup/ListesPostesPublies/ANTEE/2014_1/0911101C/FOPC_0911101C_4229.pdf\">4229</a> * </td>\n",
        "<td width=\"6%\"></td>\n",
        "<td width=\"5%\">26-I-1</td>\n",
        "<td width=\"4%\">MCF</td>\n",
        "<td width=\"5%\">Non</td>\n",
        "<td width=\"4%\">30</td>\n",
        "<td width=\"4%\">63</td>\n",
        "<td width=\"4%\"></td>\n",
        "<td width=\"7%\">01/09/2014</td>\n",
        "<td width=\"7%\">27/02/2014</td>\n",
        "<td width=\"7%\">01/04/2014</td>\n",
        "<td width=\"11%\">Optique et Photonique</td>\n",
        "<td width=\"6%\">INSTITUT D'OPTIQUE</td>\n",
        "<td width=\"6%\"></td>\n",
        "</tr><tr>\n",
        "<td width=\"6%\">0911101C</td>\n",
        "<td width=\"12%\">UNIVERSITE PARIS 11</td>\n",
        "<td width=\"6%\"><a href=\"https://www.galaxie.enseignementsup-recherche.gouv.fr/ensup/ListesPostesPublies/ANTEE/2014_1/0911101C/FOPC_0911101C_4241.pdf\">4241</a> * </td>\n",
        "<td width=\"6%\"></td>\n",
        "<td width=\"5%\">26-I-1</td>\n",
        "<td width=\"4%\">MCF</td>\n",
        "<td width=\"5%\">Non</td>\n",
        "<td width=\"4%\">61</td>\n",
        "<td width=\"4%\">63</td>\n",
        "<td width=\"4%\"></td>\n",
        "<td width=\"7%\">01/09/2014</td>\n",
        "<td width=\"7%\">27/02/2014</td>\n",
        "<td width=\"7%\">01/04/2014</td>\n",
        "<td width=\"11%\">Traitement de l'information appliqu\u00e9 aux syst\u00e8mes \u00e9lectroniques et \u00e9lectriques</td>\n",
        "<td width=\"6%\">CACHAN</td>\n",
        "<td width=\"6%\"></td>\n",
        "</tr><tr>\n",
        "<td width=\"6%\">0751722P</td>\n",
        "<td width=\"12%\">UNIVERSITE PARIS 6 (P. ET M. CURIE)</td>\n",
        "<td width=\"6%\"><a href=\"https://www.galaxie.enseignementsup-recherche.gouv.fr/ensup/ListesPostesPublies/ANTEE/2014_1/0751722P/FOPC_0751722P_4266.pdf\">4266</a> * </td>\n",
        "<td width=\"6%\">1380</td>\n",
        "<td width=\"5%\">26-I-1</td>\n",
        "<td width=\"4%\">MCF</td>\n",
        "<td width=\"5%\">Non</td>\n",
        "<td width=\"4%\">63</td>\n",
        "<td width=\"4%\"></td>\n",
        "<td width=\"4%\"></td>\n",
        "<td width=\"7%\">01/09/2014</td>\n",
        "<td width=\"7%\">27/02/2014</td>\n",
        "<td width=\"7%\">01/04/2014</td>\n",
        "<td width=\"11%\">Mod\u00e9lisation multiphysique de microsyst\u00e8mes dans les r\u00e9seaux WBAN</td>\n",
        "<td width=\"6%\">Campus Jussieu</td>\n",
        "<td width=\"6%\"></td>\n",
        "</tr><tr>\n",
        "<td width=\"6%\">0751722P</td>\n",
        "<td width=\"12%\">UNIVERSITE PARIS 6 (P. ET M. CURIE)</td>\n",
        "<td width=\"6%\"><a href=\"https://www.galaxie.enseignementsup-recherche.gouv.fr/ensup/ListesPostesPublies/ANTEE/2014_1/0751722P/FOPC_0751722P_4267.pdf\">4267</a> * </td>\n",
        "<td width=\"6%\">0648</td>\n",
        "<td width=\"5%\">26-I-1</td>\n",
        "<td width=\"4%\">MCF</td>\n",
        "<td width=\"5%\">Non</td>\n",
        "<td width=\"4%\">63</td>\n",
        "<td width=\"4%\"></td>\n",
        "<td width=\"4%\"></td>\n",
        "<td width=\"7%\">01/09/2014</td>\n",
        "<td width=\"7%\">27/02/2014</td>\n",
        "<td width=\"7%\">01/04/2014</td>\n",
        "<td width=\"11%\">Mat\u00e9riaux et dispositifs pour les syst\u00e8mes autonomes et \u00e0 faible consommation</td>\n",
        "<td width=\"6%\">Campus Jussieu</td>\n",
        "<td width=\"6%\"></td>\n",
        "</tr><tr>\n",
        "<td width=\"6%\">0911101C</td>\n",
        "<td width=\"12%\">UNIVERSITE PARIS 11</td>\n",
        "<td width=\"6%\"><a href=\"https://www.galaxie.enseignementsup-recherche.gouv.fr/ensup/ListesPostesPublies/ANTEE/2014_1/0911101C/FOPC_0911101C_4226.pdf\">4226</a> * </td>\n",
        "<td width=\"6%\"></td>\n",
        "<td width=\"5%\">26-I-1</td>\n",
        "<td width=\"4%\">MCF</td>\n",
        "<td width=\"5%\">Non</td>\n",
        "<td width=\"4%\">63</td>\n",
        "<td width=\"4%\"></td>\n",
        "<td width=\"4%\"></td>\n",
        "<td width=\"7%\">01/09/2014</td>\n",
        "<td width=\"7%\">27/02/2014</td>\n",
        "<td width=\"7%\">01/04/2014</td>\n",
        "<td width=\"11%\">Instrumentation et m\u00e9thodes en imagerie par r\u00e9sonance magn\u00e9tique</td>\n",
        "<td width=\"6%\">ORSAY</td>\n",
        "<td width=\"6%\"></td>\n",
        "</tr><tr>\n",
        "<td width=\"6%\">0221809X</td>\n",
        "<td width=\"12%\">UNIV. RENNES 1 (ENSSAT LANNION)</td>\n",
        "<td width=\"6%\"><a href=\"https://www.galaxie.enseignementsup-recherche.gouv.fr/ensup/ListesPostesPublies/ANTEE/2014_1/0221809X/FOPC_0221809X_4247.pdf\">4247</a> * </td>\n",
        "<td width=\"6%\"></td>\n",
        "<td width=\"5%\">46-1</td>\n",
        "<td width=\"4%\">PR</td>\n",
        "<td width=\"5%\">Non</td>\n",
        "<td width=\"4%\">30</td>\n",
        "<td width=\"4%\">63</td>\n",
        "<td width=\"4%\"></td>\n",
        "<td width=\"7%\">01/09/2014</td>\n",
        "<td width=\"7%\">27/02/2014</td>\n",
        "<td width=\"7%\">01/04/2014</td>\n",
        "<td width=\"11%\">Enseignement \u00e0 l\u00bfEnssat,responsabilit\u00e9 p\u00e9dagog.,recherche ds \u00e9quipe Syst\u00e8mes Photoniques,UMR CNRS Foton (nouvelles sources lasers,capteurs et/ou fonctions optiques, liens avec partenaires industr.)</td>\n",
        "<td width=\"6%\">LANNION</td>\n",
        "<td width=\"6%\"></td>\n",
        "</tr><tr>\n",
        "<td width=\"6%\">0911101C</td>\n",
        "<td width=\"12%\">UNIVERSITE PARIS 11</td>\n",
        "<td width=\"6%\"><a href=\"https://www.galaxie.enseignementsup-recherche.gouv.fr/ensup/ListesPostesPublies/ANTEE/2014_1/0911101C/FOPC_0911101C_4230.pdf\">4230</a> * </td>\n",
        "<td width=\"6%\"></td>\n",
        "<td width=\"5%\">46-1</td>\n",
        "<td width=\"4%\">PR</td>\n",
        "<td width=\"5%\">Non</td>\n",
        "<td width=\"4%\">30</td>\n",
        "<td width=\"4%\">63</td>\n",
        "<td width=\"4%\"></td>\n",
        "<td width=\"7%\">01/09/2014</td>\n",
        "<td width=\"7%\">27/02/2014</td>\n",
        "<td width=\"7%\">01/04/2014</td>\n",
        "<td width=\"11%\">Optique et Photonique</td>\n",
        "<td width=\"6%\">INSTITUT D'OPTIQUE</td>\n",
        "<td width=\"6%\"></td>\n",
        "</tr><tr>\n",
        "<td width=\"6%\">0300930Y</td>\n",
        "<td width=\"12%\">UNIV. MONTPELLIER 2 (IUT NIMES)</td>\n",
        "<td width=\"6%\"><a href=\"https://www.galaxie.enseignementsup-recherche.gouv.fr/ensup/ListesPostesPublies/FIDIS/0300930Y/FOPC_0300930Y_113.pdf\">113</a></td>\n",
        "<td width=\"6%\"></td>\n",
        "<td width=\"5%\">46-1</td>\n",
        "<td width=\"4%\">PR</td>\n",
        "<td width=\"5%\">Non</td>\n",
        "<td width=\"4%\">63</td>\n",
        "<td width=\"4%\"></td>\n",
        "<td width=\"4%\"></td>\n",
        "<td width=\"7%\">01/09/2014</td>\n",
        "<td width=\"7%\">06/02/2014</td>\n",
        "<td width=\"7%\">08/03/2014</td>\n",
        "<td width=\"11%\">\u00c9lectronique, Electrotechnique, Micro-\u00e9lectronique, Photonique, Instrumentation, Mesure, Simulation.</td>\n",
        "<td width=\"6%\">IUT Nimes</td>\n",
        "<td width=\"6%\"></td>\n",
        "</tr></table>"
       ],
       "metadata": {},
       "output_type": "pyout",
       "prompt_number": 177,
       "text": [
        "<IPython.core.display.HTML at 0xc6c5850>"
       ]
      }
     ],
     "prompt_number": 177
    },
    {
     "cell_type": "code",
     "collapsed": false,
     "input": [],
     "language": "python",
     "metadata": {},
     "outputs": []
    }
   ],
   "metadata": {}
  }
 ]
}